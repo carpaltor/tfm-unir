{
 "cells": [
  {
   "cell_type": "code",
   "execution_count": 101,
   "metadata": {},
   "outputs": [],
   "source": [
    "# %pip install torch\n",
    "# %pip install captum"
   ]
  },
  {
   "cell_type": "code",
   "execution_count": 2,
   "metadata": {},
   "outputs": [],
   "source": [
    "# Initial imports\n",
    "import numpy as np\n",
    "import torch\n",
    "import torch.nn as nn\n",
    "import captum\n",
    "from captum.attr import IntegratedGradients\n",
    "from captum.attr import LayerConductance\n",
    "from captum.attr import NeuronConductance\n",
    "\n",
    "import matplotlib\n",
    "import matplotlib.pyplot as plt\n",
    "%matplotlib inline\n",
    "\n",
    "from scipy import stats\n",
    "import pandas as pd"
   ]
  },
  {
   "cell_type": "code",
   "execution_count": 3,
   "metadata": {},
   "outputs": [],
   "source": [
    "# Update path to dataset here.\n",
    "dataset_path = \"titanic.csv\""
   ]
  },
  {
   "cell_type": "code",
   "execution_count": 4,
   "metadata": {},
   "outputs": [],
   "source": [
    "# Read dataset from csv file.\n",
    "titanic_data = pd.read_csv(dataset_path)"
   ]
  },
  {
   "cell_type": "code",
   "execution_count": 5,
   "metadata": {},
   "outputs": [
    {
     "data": {
      "text/html": [
       "<div>\n",
       "<style scoped>\n",
       "    .dataframe tbody tr th:only-of-type {\n",
       "        vertical-align: middle;\n",
       "    }\n",
       "\n",
       "    .dataframe tbody tr th {\n",
       "        vertical-align: top;\n",
       "    }\n",
       "\n",
       "    .dataframe thead th {\n",
       "        text-align: right;\n",
       "    }\n",
       "</style>\n",
       "<table border=\"1\" class=\"dataframe\">\n",
       "  <thead>\n",
       "    <tr style=\"text-align: right;\">\n",
       "      <th></th>\n",
       "      <th>PassengerId</th>\n",
       "      <th>Survived</th>\n",
       "      <th>Pclass</th>\n",
       "      <th>Name</th>\n",
       "      <th>Sex</th>\n",
       "      <th>Age</th>\n",
       "      <th>SibSp</th>\n",
       "      <th>Parch</th>\n",
       "      <th>Ticket</th>\n",
       "      <th>Fare</th>\n",
       "      <th>Cabin</th>\n",
       "      <th>Embarked</th>\n",
       "    </tr>\n",
       "  </thead>\n",
       "  <tbody>\n",
       "    <tr>\n",
       "      <th>0</th>\n",
       "      <td>1</td>\n",
       "      <td>0</td>\n",
       "      <td>3</td>\n",
       "      <td>Braund, Mr. Owen Harris</td>\n",
       "      <td>male</td>\n",
       "      <td>22.0</td>\n",
       "      <td>1</td>\n",
       "      <td>0</td>\n",
       "      <td>A/5 21171</td>\n",
       "      <td>7.2500</td>\n",
       "      <td>NaN</td>\n",
       "      <td>S</td>\n",
       "    </tr>\n",
       "    <tr>\n",
       "      <th>1</th>\n",
       "      <td>2</td>\n",
       "      <td>1</td>\n",
       "      <td>1</td>\n",
       "      <td>Cumings, Mrs. John Bradley (Florence Briggs Th...</td>\n",
       "      <td>female</td>\n",
       "      <td>38.0</td>\n",
       "      <td>1</td>\n",
       "      <td>0</td>\n",
       "      <td>PC 17599</td>\n",
       "      <td>71.2833</td>\n",
       "      <td>C85</td>\n",
       "      <td>C</td>\n",
       "    </tr>\n",
       "    <tr>\n",
       "      <th>2</th>\n",
       "      <td>3</td>\n",
       "      <td>1</td>\n",
       "      <td>3</td>\n",
       "      <td>Heikkinen, Miss. Laina</td>\n",
       "      <td>female</td>\n",
       "      <td>26.0</td>\n",
       "      <td>0</td>\n",
       "      <td>0</td>\n",
       "      <td>STON/O2. 3101282</td>\n",
       "      <td>7.9250</td>\n",
       "      <td>NaN</td>\n",
       "      <td>S</td>\n",
       "    </tr>\n",
       "    <tr>\n",
       "      <th>3</th>\n",
       "      <td>4</td>\n",
       "      <td>1</td>\n",
       "      <td>1</td>\n",
       "      <td>Futrelle, Mrs. Jacques Heath (Lily May Peel)</td>\n",
       "      <td>female</td>\n",
       "      <td>35.0</td>\n",
       "      <td>1</td>\n",
       "      <td>0</td>\n",
       "      <td>113803</td>\n",
       "      <td>53.1000</td>\n",
       "      <td>C123</td>\n",
       "      <td>S</td>\n",
       "    </tr>\n",
       "    <tr>\n",
       "      <th>4</th>\n",
       "      <td>5</td>\n",
       "      <td>0</td>\n",
       "      <td>3</td>\n",
       "      <td>Allen, Mr. William Henry</td>\n",
       "      <td>male</td>\n",
       "      <td>35.0</td>\n",
       "      <td>0</td>\n",
       "      <td>0</td>\n",
       "      <td>373450</td>\n",
       "      <td>8.0500</td>\n",
       "      <td>NaN</td>\n",
       "      <td>S</td>\n",
       "    </tr>\n",
       "  </tbody>\n",
       "</table>\n",
       "</div>"
      ],
      "text/plain": [
       "   PassengerId  Survived  Pclass  \\\n",
       "0            1         0       3   \n",
       "1            2         1       1   \n",
       "2            3         1       3   \n",
       "3            4         1       1   \n",
       "4            5         0       3   \n",
       "\n",
       "                                                Name     Sex   Age  SibSp  \\\n",
       "0                            Braund, Mr. Owen Harris    male  22.0      1   \n",
       "1  Cumings, Mrs. John Bradley (Florence Briggs Th...  female  38.0      1   \n",
       "2                             Heikkinen, Miss. Laina  female  26.0      0   \n",
       "3       Futrelle, Mrs. Jacques Heath (Lily May Peel)  female  35.0      1   \n",
       "4                           Allen, Mr. William Henry    male  35.0      0   \n",
       "\n",
       "   Parch            Ticket     Fare Cabin Embarked  \n",
       "0      0         A/5 21171   7.2500   NaN        S  \n",
       "1      0          PC 17599  71.2833   C85        C  \n",
       "2      0  STON/O2. 3101282   7.9250   NaN        S  \n",
       "3      0            113803  53.1000  C123        S  \n",
       "4      0            373450   8.0500   NaN        S  "
      ]
     },
     "execution_count": 5,
     "metadata": {},
     "output_type": "execute_result"
    }
   ],
   "source": [
    "titanic_data.head()"
   ]
  },
  {
   "cell_type": "code",
   "execution_count": 6,
   "metadata": {},
   "outputs": [
    {
     "data": {
      "text/plain": [
       "PassengerId      0\n",
       "Survived         0\n",
       "Pclass           0\n",
       "Name             0\n",
       "Sex              0\n",
       "Age            177\n",
       "SibSp            0\n",
       "Parch            0\n",
       "Ticket           0\n",
       "Fare             0\n",
       "Cabin          687\n",
       "Embarked         2\n",
       "dtype: int64"
      ]
     },
     "execution_count": 6,
     "metadata": {},
     "output_type": "execute_result"
    }
   ],
   "source": [
    "titanic_data.isnull().sum()"
   ]
  },
  {
   "attachments": {},
   "cell_type": "markdown",
   "metadata": {},
   "source": [
    "Con los datos cargados, ahora preprocesamos los datos convirtiendo algunas características categóricas como el género, la ubicación del embarque y la clase de pasajero en codificaciones únicas (columnas de características separadas para cada clase con 0/1). \n",
    "También eliminamos algunas características que son más difíciles de analizar, como el nombre, y completamos los valores faltantes en la edad y la tarifa con los valores promedio."
   ]
  },
  {
   "attachments": {},
   "cell_type": "markdown",
   "metadata": {},
   "source": [
    "En este caso, cada categoría en cada columna se convertirá en un número entero único. Sin embargo, ten en cuenta que si hay una relación ordinal entre las categorías, como en el caso de \"Pclass\" (clase de pasajero), podría ser más apropiado utilizar el enfoque de variables ficticias (dummy variables) para evitar la interpretación errónea de un orden implícito.\n",
    "\n",
    "Al final, la elección entre LabelEncoder y el enfoque de variables ficticias depende del contexto y la naturaleza de tus datos. Si no hay un orden implícito entre las categorías y el modelo de aprendizaje automático que utilizarás puede manejar variables categóricas codificadas de manera ordinal, LabelEncoder puede ser una opción adecuada. Sin embargo, si las categorías no tienen un orden natural o el orden puede introducir sesgos, es preferible utilizar el enfoque de variables ficticias."
   ]
  },
  {
   "cell_type": "code",
   "execution_count": 7,
   "metadata": {},
   "outputs": [],
   "source": [
    "titanic_data = pd.concat([titanic_data,\n",
    "                          pd.get_dummies(titanic_data['Sex'], dtype=int),\n",
    "                          pd.get_dummies(titanic_data['Embarked'],prefix=\"Embark\", dtype=int),\n",
    "                          pd.get_dummies(titanic_data['Pclass'],prefix=\"Class\", dtype=int)], axis=1)\n",
    "\n",
    "titanic_data[\"Age\"] = titanic_data[\"Age\"].fillna(titanic_data[\"Age\"].mean())\n",
    "titanic_data[\"Fare\"] = titanic_data[\"Fare\"].fillna(titanic_data[\"Fare\"].mean())\n",
    "\n",
    "titanic_data = titanic_data.drop(['PassengerId', 'Name','Ticket','Sex','Embarked','Pclass', 'Cabin'], axis=1)"
   ]
  },
  {
   "cell_type": "code",
   "execution_count": 8,
   "metadata": {},
   "outputs": [
    {
     "data": {
      "text/html": [
       "<div>\n",
       "<style scoped>\n",
       "    .dataframe tbody tr th:only-of-type {\n",
       "        vertical-align: middle;\n",
       "    }\n",
       "\n",
       "    .dataframe tbody tr th {\n",
       "        vertical-align: top;\n",
       "    }\n",
       "\n",
       "    .dataframe thead th {\n",
       "        text-align: right;\n",
       "    }\n",
       "</style>\n",
       "<table border=\"1\" class=\"dataframe\">\n",
       "  <thead>\n",
       "    <tr style=\"text-align: right;\">\n",
       "      <th></th>\n",
       "      <th>Survived</th>\n",
       "      <th>Age</th>\n",
       "      <th>SibSp</th>\n",
       "      <th>Parch</th>\n",
       "      <th>Fare</th>\n",
       "      <th>female</th>\n",
       "      <th>male</th>\n",
       "      <th>Embark_C</th>\n",
       "      <th>Embark_Q</th>\n",
       "      <th>Embark_S</th>\n",
       "      <th>Class_1</th>\n",
       "      <th>Class_2</th>\n",
       "      <th>Class_3</th>\n",
       "    </tr>\n",
       "  </thead>\n",
       "  <tbody>\n",
       "    <tr>\n",
       "      <th>0</th>\n",
       "      <td>0</td>\n",
       "      <td>22.0</td>\n",
       "      <td>1</td>\n",
       "      <td>0</td>\n",
       "      <td>7.2500</td>\n",
       "      <td>0</td>\n",
       "      <td>1</td>\n",
       "      <td>0</td>\n",
       "      <td>0</td>\n",
       "      <td>1</td>\n",
       "      <td>0</td>\n",
       "      <td>0</td>\n",
       "      <td>1</td>\n",
       "    </tr>\n",
       "    <tr>\n",
       "      <th>1</th>\n",
       "      <td>1</td>\n",
       "      <td>38.0</td>\n",
       "      <td>1</td>\n",
       "      <td>0</td>\n",
       "      <td>71.2833</td>\n",
       "      <td>1</td>\n",
       "      <td>0</td>\n",
       "      <td>1</td>\n",
       "      <td>0</td>\n",
       "      <td>0</td>\n",
       "      <td>1</td>\n",
       "      <td>0</td>\n",
       "      <td>0</td>\n",
       "    </tr>\n",
       "    <tr>\n",
       "      <th>2</th>\n",
       "      <td>1</td>\n",
       "      <td>26.0</td>\n",
       "      <td>0</td>\n",
       "      <td>0</td>\n",
       "      <td>7.9250</td>\n",
       "      <td>1</td>\n",
       "      <td>0</td>\n",
       "      <td>0</td>\n",
       "      <td>0</td>\n",
       "      <td>1</td>\n",
       "      <td>0</td>\n",
       "      <td>0</td>\n",
       "      <td>1</td>\n",
       "    </tr>\n",
       "    <tr>\n",
       "      <th>3</th>\n",
       "      <td>1</td>\n",
       "      <td>35.0</td>\n",
       "      <td>1</td>\n",
       "      <td>0</td>\n",
       "      <td>53.1000</td>\n",
       "      <td>1</td>\n",
       "      <td>0</td>\n",
       "      <td>0</td>\n",
       "      <td>0</td>\n",
       "      <td>1</td>\n",
       "      <td>1</td>\n",
       "      <td>0</td>\n",
       "      <td>0</td>\n",
       "    </tr>\n",
       "    <tr>\n",
       "      <th>4</th>\n",
       "      <td>0</td>\n",
       "      <td>35.0</td>\n",
       "      <td>0</td>\n",
       "      <td>0</td>\n",
       "      <td>8.0500</td>\n",
       "      <td>0</td>\n",
       "      <td>1</td>\n",
       "      <td>0</td>\n",
       "      <td>0</td>\n",
       "      <td>1</td>\n",
       "      <td>0</td>\n",
       "      <td>0</td>\n",
       "      <td>1</td>\n",
       "    </tr>\n",
       "  </tbody>\n",
       "</table>\n",
       "</div>"
      ],
      "text/plain": [
       "   Survived   Age  SibSp  Parch     Fare  female  male  Embark_C  Embark_Q  \\\n",
       "0         0  22.0      1      0   7.2500       0     1         0         0   \n",
       "1         1  38.0      1      0  71.2833       1     0         1         0   \n",
       "2         1  26.0      0      0   7.9250       1     0         0         0   \n",
       "3         1  35.0      1      0  53.1000       1     0         0         0   \n",
       "4         0  35.0      0      0   8.0500       0     1         0         0   \n",
       "\n",
       "   Embark_S  Class_1  Class_2  Class_3  \n",
       "0         1        0        0        1  \n",
       "1         0        1        0        0  \n",
       "2         1        0        0        1  \n",
       "3         1        1        0        0  \n",
       "4         1        0        0        1  "
      ]
     },
     "execution_count": 8,
     "metadata": {},
     "output_type": "execute_result"
    }
   ],
   "source": [
    "titanic_data.head()"
   ]
  },
  {
   "cell_type": "code",
   "execution_count": 9,
   "metadata": {},
   "outputs": [
    {
     "data": {
      "text/plain": [
       "(891, 13)"
      ]
     },
     "execution_count": 9,
     "metadata": {},
     "output_type": "execute_result"
    }
   ],
   "source": [
    "titanic_data.shape"
   ]
  },
  {
   "cell_type": "code",
   "execution_count": 10,
   "metadata": {},
   "outputs": [],
   "source": [
    "# Guardamos el DataFrame en un archivo CSV\n",
    "titanic_data.to_csv('titanic_data.csv', index = False)"
   ]
  },
  {
   "attachments": {},
   "cell_type": "markdown",
   "metadata": {},
   "source": [
    "Después del procesamiento, las características que tenemos son:\n",
    "\n",
    "Age  - Edad del Pasajero  \n",
    "Sibsp - Número de hermanos/cónyuges a bordo  \n",
    "Parch - Número de padres/hijos a bordo  \n",
    "Fare  - Importe de tarifa pagado en libras esterlinas  \n",
    "Female  - Variable binaria que indica si el pasajero es mujer  \n",
    "Male  - Variable binaria que indica si el pasajero es hombre  \n",
    "EmbarkC - Variable binaria que indica si el pasajero se embarcó en Cherburgo  \n",
    "EmbarkQ: variable binaria que indica si el pasajero se embarcó en Queenstown  \n",
    "EmbarkS - Variable binaria que indica si el pasajero se embarcó en Southampton  \n",
    "Class1 - Variable binaria que indica si el pasajero estaba en primera clase  \n",
    "Class2 - Variable binaria que indica si el pasajero estaba en segunda clase  \n",
    "Class3 - Variable binaria que indica si el pasajero estaba en tercera clase  "
   ]
  },
  {
   "attachments": {},
   "cell_type": "markdown",
   "metadata": {},
   "source": [
    "Ahora convertimos los datos en matrices numpy y separamos los conjuntos de entrenamiento y prueba."
   ]
  },
  {
   "cell_type": "code",
   "execution_count": 11,
   "metadata": {},
   "outputs": [],
   "source": [
    "# Set random seed for reproducibility.\n",
    "np.random.seed(131254)\n",
    "\n",
    "# Convert features and labels to numpy arrays.\n",
    "labels = titanic_data[\"Survived\"].to_numpy()\n",
    "titanic_data = titanic_data.drop(['Survived'], axis=1)\n",
    "feature_names = list(titanic_data.columns)\n",
    "data = titanic_data.to_numpy()\n",
    "\n",
    "# Separate training and test sets using \n",
    "train_indices = np.random.choice(len(labels), int(0.7*len(labels)), replace=False)\n",
    "test_indices = list(set(range(len(labels))) - set(train_indices))\n",
    "train_features = data[train_indices]\n",
    "train_labels = labels[train_indices]\n",
    "test_features = data[test_indices]\n",
    "test_labels = labels[test_indices]"
   ]
  },
  {
   "cell_type": "code",
   "execution_count": 12,
   "metadata": {},
   "outputs": [
    {
     "data": {
      "text/plain": [
       "(623, 12)"
      ]
     },
     "execution_count": 12,
     "metadata": {},
     "output_type": "execute_result"
    }
   ],
   "source": [
    "train_features.shape"
   ]
  },
  {
   "attachments": {},
   "cell_type": "markdown",
   "metadata": {},
   "source": [
    "Ahora estamos listos para definir la arquitectura de la red neuronal que usaremos para la tarea.  Hemos definido una arquitectura simple utilizando 2 capas ocultas, la primera con 12 unidades ocultas y la segunda con 8 unidades ocultas, cada una con no linealidad sigmoide.  La capa final realiza una operación softmax y tiene 2 unidades, correspondientes a las salidas de sobrevivido (1) o no sobrevivido (0)."
   ]
  },
  {
   "cell_type": "code",
   "execution_count": 13,
   "metadata": {},
   "outputs": [],
   "source": [
    "torch.manual_seed(1)  # Set seed for reproducibility.\n",
    "\n",
    "class TitanicSimpleNNModel(nn.Module):\n",
    "    def __init__(self):\n",
    "        super().__init__()\n",
    "        self.linear1 = nn.Linear(12, 12)\n",
    "        self.sigmoid1 = nn.Sigmoid()\n",
    "        self.linear2 = nn.Linear(12, 8)\n",
    "        self.sigmoid2 = nn.Sigmoid()\n",
    "        self.linear3 = nn.Linear(8, 2)\n",
    "        self.softmax = nn.Softmax(dim=1)\n",
    "\n",
    "    def forward(self, x):\n",
    "        lin1_out = self.linear1(x)\n",
    "        sigmoid_out1 = self.sigmoid1(lin1_out)\n",
    "        sigmoid_out2 = self.sigmoid2(self.linear2(sigmoid_out1))\n",
    "        return self.softmax(self.linear3(sigmoid_out2))\n",
    "    \n",
    "    def predict(self, x):\n",
    "        if isinstance(x, np.ndarray):\n",
    "            x = torch.from_numpy(x).float()\n",
    "        elif isinstance(x, torch.Tensor):\n",
    "            x = x.float()\n",
    "            \n",
    "        x = x.view(x.size(0), -1)\n",
    "        output = self.forward(x)\n",
    "        predicted_probs = torch.softmax(output, dim=1)\n",
    "        return predicted_probs\n",
    "\n",
    "\n",
    "    \n",
    "    def predict_lime(self, x):\n",
    "        if isinstance(x, np.ndarray):\n",
    "            x = torch.from_numpy(x).float()\n",
    "        elif isinstance(x, torch.Tensor):\n",
    "            x = x.float()\n",
    "\n",
    "        x = x.view(x.size(0), -1)\n",
    "        output = self.forward(x)\n",
    "        predicted_probs = torch.softmax(output, dim=1)\n",
    "        _, predicted_labels = torch.max(predicted_probs, 1)\n",
    "        return predicted_probs.detach().numpy()\n",
    "    \n",
    "# Declaramos una nueva instancia de clase\n",
    "net = TitanicSimpleNNModel()"
   ]
  },
  {
   "cell_type": "code",
   "execution_count": 16,
   "metadata": {},
   "outputs": [
    {
     "data": {
      "image/svg+xml": [
       "<?xml version=\"1.0\" encoding=\"UTF-8\" standalone=\"no\"?>\n",
       "<!DOCTYPE svg PUBLIC \"-//W3C//DTD SVG 1.1//EN\"\n",
       " \"http://www.w3.org/Graphics/SVG/1.1/DTD/svg11.dtd\">\n",
       "<!-- Generated by graphviz version 9.0.0 (20230911.1827)\n",
       " -->\n",
       "<!-- Pages: 1 -->\n",
       "<svg width=\"450pt\" height=\"616pt\"\n",
       " viewBox=\"0.00 0.00 450.00 616.00\" xmlns=\"http://www.w3.org/2000/svg\" xmlns:xlink=\"http://www.w3.org/1999/xlink\">\n",
       "<g id=\"graph0\" class=\"graph\" transform=\"scale(1 1) rotate(0) translate(4 612)\">\n",
       "<polygon fill=\"white\" stroke=\"none\" points=\"-4,4 -4,-612 446,-612 446,4 -4,4\"/>\n",
       "<!-- 1855335238288 -->\n",
       "<g id=\"node1\" class=\"node\">\n",
       "<title>1855335238288</title>\n",
       "<polygon fill=\"#caff70\" stroke=\"black\" points=\"236,-32 178,-32 178,0 236,0 236,-32\"/>\n",
       "<text text-anchor=\"middle\" x=\"207\" y=\"-6.5\" font-family=\"monospace\" font-size=\"10.00\"> (1, 2)</text>\n",
       "</g>\n",
       "<!-- 1855336021680 -->\n",
       "<g id=\"node2\" class=\"node\">\n",
       "<title>1855336021680</title>\n",
       "<polygon fill=\"lightgrey\" stroke=\"black\" points=\"263,-88 151,-88 151,-68 263,-68 263,-88\"/>\n",
       "<text text-anchor=\"middle\" x=\"207\" y=\"-74.5\" font-family=\"monospace\" font-size=\"10.00\">SoftmaxBackward0</text>\n",
       "</g>\n",
       "<!-- 1855336021680&#45;&gt;1855335238288 -->\n",
       "<g id=\"edge21\" class=\"edge\">\n",
       "<title>1855336021680&#45;&gt;1855335238288</title>\n",
       "<path fill=\"none\" stroke=\"black\" d=\"M207,-67.63C207,-61.1 207,-52.05 207,-43.4\"/>\n",
       "<polygon fill=\"black\" stroke=\"black\" points=\"210.5,-43.65 207,-33.65 203.5,-43.65 210.5,-43.65\"/>\n",
       "</g>\n",
       "<!-- 1855336021296 -->\n",
       "<g id=\"node3\" class=\"node\">\n",
       "<title>1855336021296</title>\n",
       "<polygon fill=\"lightgrey\" stroke=\"black\" points=\"257,-144 157,-144 157,-124 257,-124 257,-144\"/>\n",
       "<text text-anchor=\"middle\" x=\"207\" y=\"-130.5\" font-family=\"monospace\" font-size=\"10.00\">AddmmBackward0</text>\n",
       "</g>\n",
       "<!-- 1855336021296&#45;&gt;1855336021680 -->\n",
       "<g id=\"edge1\" class=\"edge\">\n",
       "<title>1855336021296&#45;&gt;1855336021680</title>\n",
       "<path fill=\"none\" stroke=\"black\" d=\"M207,-123.59C207,-117.01 207,-107.96 207,-99.73\"/>\n",
       "<polygon fill=\"black\" stroke=\"black\" points=\"210.5,-99.81 207,-89.81 203.5,-99.81 210.5,-99.81\"/>\n",
       "</g>\n",
       "<!-- 1855336021536 -->\n",
       "<g id=\"node4\" class=\"node\">\n",
       "<title>1855336021536</title>\n",
       "<polygon fill=\"lightgrey\" stroke=\"black\" points=\"133,-200 33,-200 33,-180 133,-180 133,-200\"/>\n",
       "<text text-anchor=\"middle\" x=\"83\" y=\"-186.5\" font-family=\"monospace\" font-size=\"10.00\">AccumulateGrad</text>\n",
       "</g>\n",
       "<!-- 1855336021536&#45;&gt;1855336021296 -->\n",
       "<g id=\"edge2\" class=\"edge\">\n",
       "<title>1855336021536&#45;&gt;1855336021296</title>\n",
       "<path fill=\"none\" stroke=\"black\" d=\"M104.6,-179.59C123.95,-171.17 152.6,-158.69 174.68,-149.07\"/>\n",
       "<polygon fill=\"black\" stroke=\"black\" points=\"176.07,-152.29 183.84,-145.08 173.28,-145.87 176.07,-152.29\"/>\n",
       "</g>\n",
       "<!-- 1855336106720 -->\n",
       "<g id=\"node5\" class=\"node\">\n",
       "<title>1855336106720</title>\n",
       "<polygon fill=\"lightblue\" stroke=\"black\" points=\"127,-268 39,-268 39,-236 127,-236 127,-268\"/>\n",
       "<text text-anchor=\"middle\" x=\"83\" y=\"-254.5\" font-family=\"monospace\" font-size=\"10.00\">linear3.bias</text>\n",
       "<text text-anchor=\"middle\" x=\"83\" y=\"-242.5\" font-family=\"monospace\" font-size=\"10.00\"> (2)</text>\n",
       "</g>\n",
       "<!-- 1855336106720&#45;&gt;1855336021536 -->\n",
       "<g id=\"edge3\" class=\"edge\">\n",
       "<title>1855336106720&#45;&gt;1855336021536</title>\n",
       "<path fill=\"none\" stroke=\"black\" d=\"M83,-235.55C83,-228.34 83,-219.66 83,-211.88\"/>\n",
       "<polygon fill=\"black\" stroke=\"black\" points=\"86.5,-211.92 83,-201.92 79.5,-211.92 86.5,-211.92\"/>\n",
       "</g>\n",
       "<!-- 1855336021248 -->\n",
       "<g id=\"node6\" class=\"node\">\n",
       "<title>1855336021248</title>\n",
       "<polygon fill=\"lightgrey\" stroke=\"black\" points=\"263,-200 151,-200 151,-180 263,-180 263,-200\"/>\n",
       "<text text-anchor=\"middle\" x=\"207\" y=\"-186.5\" font-family=\"monospace\" font-size=\"10.00\">SigmoidBackward0</text>\n",
       "</g>\n",
       "<!-- 1855336021248&#45;&gt;1855336021296 -->\n",
       "<g id=\"edge4\" class=\"edge\">\n",
       "<title>1855336021248&#45;&gt;1855336021296</title>\n",
       "<path fill=\"none\" stroke=\"black\" d=\"M207,-179.59C207,-173.01 207,-163.96 207,-155.73\"/>\n",
       "<polygon fill=\"black\" stroke=\"black\" points=\"210.5,-155.81 207,-145.81 203.5,-155.81 210.5,-155.81\"/>\n",
       "</g>\n",
       "<!-- 1855336021584 -->\n",
       "<g id=\"node7\" class=\"node\">\n",
       "<title>1855336021584</title>\n",
       "<polygon fill=\"lightgrey\" stroke=\"black\" points=\"248,-262 148,-262 148,-242 248,-242 248,-262\"/>\n",
       "<text text-anchor=\"middle\" x=\"198\" y=\"-248.5\" font-family=\"monospace\" font-size=\"10.00\">AddmmBackward0</text>\n",
       "</g>\n",
       "<!-- 1855336021584&#45;&gt;1855336021248 -->\n",
       "<g id=\"edge5\" class=\"edge\">\n",
       "<title>1855336021584&#45;&gt;1855336021248</title>\n",
       "<path fill=\"none\" stroke=\"black\" d=\"M199.41,-241.63C200.62,-233.56 202.4,-221.65 203.94,-211.41\"/>\n",
       "<polygon fill=\"black\" stroke=\"black\" points=\"207.39,-212.02 205.41,-201.61 200.46,-210.98 207.39,-212.02\"/>\n",
       "</g>\n",
       "<!-- 1855336020960 -->\n",
       "<g id=\"node8\" class=\"node\">\n",
       "<title>1855336020960</title>\n",
       "<polygon fill=\"lightgrey\" stroke=\"black\" points=\"100,-330 0,-330 0,-310 100,-310 100,-330\"/>\n",
       "<text text-anchor=\"middle\" x=\"50\" y=\"-316.5\" font-family=\"monospace\" font-size=\"10.00\">AccumulateGrad</text>\n",
       "</g>\n",
       "<!-- 1855336020960&#45;&gt;1855336021584 -->\n",
       "<g id=\"edge6\" class=\"edge\">\n",
       "<title>1855336020960&#45;&gt;1855336021584</title>\n",
       "<path fill=\"none\" stroke=\"black\" d=\"M71.2,-309.54C96.15,-298.42 137.8,-279.84 166.52,-267.04\"/>\n",
       "<polygon fill=\"black\" stroke=\"black\" points=\"167.74,-270.32 175.45,-263.06 164.89,-263.93 167.74,-270.32\"/>\n",
       "</g>\n",
       "<!-- 1855335235968 -->\n",
       "<g id=\"node9\" class=\"node\">\n",
       "<title>1855335235968</title>\n",
       "<polygon fill=\"lightblue\" stroke=\"black\" points=\"94,-404 6,-404 6,-372 94,-372 94,-404\"/>\n",
       "<text text-anchor=\"middle\" x=\"50\" y=\"-390.5\" font-family=\"monospace\" font-size=\"10.00\">linear2.bias</text>\n",
       "<text text-anchor=\"middle\" x=\"50\" y=\"-378.5\" font-family=\"monospace\" font-size=\"10.00\"> (8)</text>\n",
       "</g>\n",
       "<!-- 1855335235968&#45;&gt;1855336020960 -->\n",
       "<g id=\"edge7\" class=\"edge\">\n",
       "<title>1855335235968&#45;&gt;1855336020960</title>\n",
       "<path fill=\"none\" stroke=\"black\" d=\"M50,-371.69C50,-362.8 50,-351.46 50,-341.77\"/>\n",
       "<polygon fill=\"black\" stroke=\"black\" points=\"53.5,-341.83 50,-331.83 46.5,-341.83 53.5,-341.83\"/>\n",
       "</g>\n",
       "<!-- 1855336021008 -->\n",
       "<g id=\"node10\" class=\"node\">\n",
       "<title>1855336021008</title>\n",
       "<polygon fill=\"lightgrey\" stroke=\"black\" points=\"230,-330 118,-330 118,-310 230,-310 230,-330\"/>\n",
       "<text text-anchor=\"middle\" x=\"174\" y=\"-316.5\" font-family=\"monospace\" font-size=\"10.00\">SigmoidBackward0</text>\n",
       "</g>\n",
       "<!-- 1855336021008&#45;&gt;1855336021584 -->\n",
       "<g id=\"edge8\" class=\"edge\">\n",
       "<title>1855336021008&#45;&gt;1855336021584</title>\n",
       "<path fill=\"none\" stroke=\"black\" d=\"M177.44,-309.54C180.9,-300.04 186.33,-285.09 190.75,-272.95\"/>\n",
       "<polygon fill=\"black\" stroke=\"black\" points=\"193.92,-274.46 194.05,-263.86 187.34,-272.06 193.92,-274.46\"/>\n",
       "</g>\n",
       "<!-- 1855336169584 -->\n",
       "<g id=\"node11\" class=\"node\">\n",
       "<title>1855336169584</title>\n",
       "<polygon fill=\"lightgrey\" stroke=\"black\" points=\"221,-398 121,-398 121,-378 221,-378 221,-398\"/>\n",
       "<text text-anchor=\"middle\" x=\"171\" y=\"-384.5\" font-family=\"monospace\" font-size=\"10.00\">AddmmBackward0</text>\n",
       "</g>\n",
       "<!-- 1855336169584&#45;&gt;1855336021008 -->\n",
       "<g id=\"edge9\" class=\"edge\">\n",
       "<title>1855336169584&#45;&gt;1855336021008</title>\n",
       "<path fill=\"none\" stroke=\"black\" d=\"M171.43,-377.54C171.85,-368.23 172.51,-353.7 173.06,-341.7\"/>\n",
       "<polygon fill=\"black\" stroke=\"black\" points=\"176.54,-342.1 173.5,-331.95 169.55,-341.78 176.54,-342.1\"/>\n",
       "</g>\n",
       "<!-- 1855336169776 -->\n",
       "<g id=\"node12\" class=\"node\">\n",
       "<title>1855336169776</title>\n",
       "<polygon fill=\"lightgrey\" stroke=\"black\" points=\"118,-466 18,-466 18,-446 118,-446 118,-466\"/>\n",
       "<text text-anchor=\"middle\" x=\"68\" y=\"-452.5\" font-family=\"monospace\" font-size=\"10.00\">AccumulateGrad</text>\n",
       "</g>\n",
       "<!-- 1855336169776&#45;&gt;1855336169584 -->\n",
       "<g id=\"edge10\" class=\"edge\">\n",
       "<title>1855336169776&#45;&gt;1855336169584</title>\n",
       "<path fill=\"none\" stroke=\"black\" d=\"M82.76,-445.54C99.43,-434.86 126.83,-417.31 146.68,-404.59\"/>\n",
       "<polygon fill=\"black\" stroke=\"black\" points=\"148.46,-407.6 155,-399.26 144.69,-401.7 148.46,-407.6\"/>\n",
       "</g>\n",
       "<!-- 1855335237488 -->\n",
       "<g id=\"node13\" class=\"node\">\n",
       "<title>1855335237488</title>\n",
       "<polygon fill=\"lightblue\" stroke=\"black\" points=\"111,-540 23,-540 23,-508 111,-508 111,-540\"/>\n",
       "<text text-anchor=\"middle\" x=\"67\" y=\"-526.5\" font-family=\"monospace\" font-size=\"10.00\">linear1.bias</text>\n",
       "<text text-anchor=\"middle\" x=\"67\" y=\"-514.5\" font-family=\"monospace\" font-size=\"10.00\"> (12)</text>\n",
       "</g>\n",
       "<!-- 1855335237488&#45;&gt;1855336169776 -->\n",
       "<g id=\"edge11\" class=\"edge\">\n",
       "<title>1855335237488&#45;&gt;1855336169776</title>\n",
       "<path fill=\"none\" stroke=\"black\" d=\"M67.23,-507.69C67.37,-498.8 67.54,-487.46 67.69,-477.77\"/>\n",
       "<polygon fill=\"black\" stroke=\"black\" points=\"71.18,-477.88 67.84,-467.83 64.18,-477.78 71.18,-477.88\"/>\n",
       "</g>\n",
       "<!-- 1855336169728 -->\n",
       "<g id=\"node14\" class=\"node\">\n",
       "<title>1855336169728</title>\n",
       "<polygon fill=\"lightgrey\" stroke=\"black\" points=\"215,-466 139,-466 139,-446 215,-446 215,-466\"/>\n",
       "<text text-anchor=\"middle\" x=\"177\" y=\"-452.5\" font-family=\"monospace\" font-size=\"10.00\">TBackward0</text>\n",
       "</g>\n",
       "<!-- 1855336169728&#45;&gt;1855336169584 -->\n",
       "<g id=\"edge12\" class=\"edge\">\n",
       "<title>1855336169728&#45;&gt;1855336169584</title>\n",
       "<path fill=\"none\" stroke=\"black\" d=\"M176.14,-445.54C175.29,-436.23 173.97,-421.7 172.88,-409.7\"/>\n",
       "<polygon fill=\"black\" stroke=\"black\" points=\"176.39,-409.59 172,-399.95 169.41,-410.22 176.39,-409.59\"/>\n",
       "</g>\n",
       "<!-- 1855336169824 -->\n",
       "<g id=\"node15\" class=\"node\">\n",
       "<title>1855336169824</title>\n",
       "<polygon fill=\"lightgrey\" stroke=\"black\" points=\"229,-534 129,-534 129,-514 229,-514 229,-534\"/>\n",
       "<text text-anchor=\"middle\" x=\"179\" y=\"-520.5\" font-family=\"monospace\" font-size=\"10.00\">AccumulateGrad</text>\n",
       "</g>\n",
       "<!-- 1855336169824&#45;&gt;1855336169728 -->\n",
       "<g id=\"edge13\" class=\"edge\">\n",
       "<title>1855336169824&#45;&gt;1855336169728</title>\n",
       "<path fill=\"none\" stroke=\"black\" d=\"M178.71,-513.54C178.43,-504.23 177.99,-489.7 177.63,-477.7\"/>\n",
       "<polygon fill=\"black\" stroke=\"black\" points=\"181.13,-477.84 177.33,-467.95 174.14,-478.05 181.13,-477.84\"/>\n",
       "</g>\n",
       "<!-- 1855335239168 -->\n",
       "<g id=\"node16\" class=\"node\">\n",
       "<title>1855335239168</title>\n",
       "<polygon fill=\"lightblue\" stroke=\"black\" points=\"229,-608 129,-608 129,-576 229,-576 229,-608\"/>\n",
       "<text text-anchor=\"middle\" x=\"179\" y=\"-594.5\" font-family=\"monospace\" font-size=\"10.00\">linear1.weight</text>\n",
       "<text text-anchor=\"middle\" x=\"179\" y=\"-582.5\" font-family=\"monospace\" font-size=\"10.00\"> (12, 12)</text>\n",
       "</g>\n",
       "<!-- 1855335239168&#45;&gt;1855336169824 -->\n",
       "<g id=\"edge14\" class=\"edge\">\n",
       "<title>1855335239168&#45;&gt;1855336169824</title>\n",
       "<path fill=\"none\" stroke=\"black\" d=\"M179,-575.69C179,-566.8 179,-555.46 179,-545.77\"/>\n",
       "<polygon fill=\"black\" stroke=\"black\" points=\"182.5,-545.83 179,-535.83 175.5,-545.83 182.5,-545.83\"/>\n",
       "</g>\n",
       "<!-- 1855336021104 -->\n",
       "<g id=\"node17\" class=\"node\">\n",
       "<title>1855336021104</title>\n",
       "<polygon fill=\"lightgrey\" stroke=\"black\" points=\"324,-330 248,-330 248,-310 324,-310 324,-330\"/>\n",
       "<text text-anchor=\"middle\" x=\"286\" y=\"-316.5\" font-family=\"monospace\" font-size=\"10.00\">TBackward0</text>\n",
       "</g>\n",
       "<!-- 1855336021104&#45;&gt;1855336021584 -->\n",
       "<g id=\"edge15\" class=\"edge\">\n",
       "<title>1855336021104&#45;&gt;1855336021584</title>\n",
       "<path fill=\"none\" stroke=\"black\" d=\"M273.39,-309.54C259.41,-299.06 236.6,-281.95 219.72,-269.29\"/>\n",
       "<polygon fill=\"black\" stroke=\"black\" points=\"221.9,-266.55 211.8,-263.35 217.7,-272.15 221.9,-266.55\"/>\n",
       "</g>\n",
       "<!-- 1855336169872 -->\n",
       "<g id=\"node18\" class=\"node\">\n",
       "<title>1855336169872</title>\n",
       "<polygon fill=\"lightgrey\" stroke=\"black\" points=\"339,-398 239,-398 239,-378 339,-378 339,-398\"/>\n",
       "<text text-anchor=\"middle\" x=\"289\" y=\"-384.5\" font-family=\"monospace\" font-size=\"10.00\">AccumulateGrad</text>\n",
       "</g>\n",
       "<!-- 1855336169872&#45;&gt;1855336021104 -->\n",
       "<g id=\"edge16\" class=\"edge\">\n",
       "<title>1855336169872&#45;&gt;1855336021104</title>\n",
       "<path fill=\"none\" stroke=\"black\" d=\"M288.57,-377.54C288.15,-368.23 287.49,-353.7 286.94,-341.7\"/>\n",
       "<polygon fill=\"black\" stroke=\"black\" points=\"290.45,-341.78 286.5,-331.95 283.46,-342.1 290.45,-341.78\"/>\n",
       "</g>\n",
       "<!-- 1855335239248 -->\n",
       "<g id=\"node19\" class=\"node\">\n",
       "<title>1855335239248</title>\n",
       "<polygon fill=\"lightblue\" stroke=\"black\" points=\"339,-472 239,-472 239,-440 339,-440 339,-472\"/>\n",
       "<text text-anchor=\"middle\" x=\"289\" y=\"-458.5\" font-family=\"monospace\" font-size=\"10.00\">linear2.weight</text>\n",
       "<text text-anchor=\"middle\" x=\"289\" y=\"-446.5\" font-family=\"monospace\" font-size=\"10.00\"> (8, 12)</text>\n",
       "</g>\n",
       "<!-- 1855335239248&#45;&gt;1855336169872 -->\n",
       "<g id=\"edge17\" class=\"edge\">\n",
       "<title>1855335239248&#45;&gt;1855336169872</title>\n",
       "<path fill=\"none\" stroke=\"black\" d=\"M289,-439.69C289,-430.8 289,-419.46 289,-409.77\"/>\n",
       "<polygon fill=\"black\" stroke=\"black\" points=\"292.5,-409.83 289,-399.83 285.5,-409.83 292.5,-409.83\"/>\n",
       "</g>\n",
       "<!-- 1855336021344 -->\n",
       "<g id=\"node20\" class=\"node\">\n",
       "<title>1855336021344</title>\n",
       "<polygon fill=\"lightgrey\" stroke=\"black\" points=\"405,-200 329,-200 329,-180 405,-180 405,-200\"/>\n",
       "<text text-anchor=\"middle\" x=\"367\" y=\"-186.5\" font-family=\"monospace\" font-size=\"10.00\">TBackward0</text>\n",
       "</g>\n",
       "<!-- 1855336021344&#45;&gt;1855336021296 -->\n",
       "<g id=\"edge18\" class=\"edge\">\n",
       "<title>1855336021344&#45;&gt;1855336021296</title>\n",
       "<path fill=\"none\" stroke=\"black\" d=\"M339.13,-179.59C313.25,-170.86 274.47,-157.77 245.61,-148.03\"/>\n",
       "<polygon fill=\"black\" stroke=\"black\" points=\"247.12,-144.85 236.52,-144.96 244.88,-151.48 247.12,-144.85\"/>\n",
       "</g>\n",
       "<!-- 1855336021152 -->\n",
       "<g id=\"node21\" class=\"node\">\n",
       "<title>1855336021152</title>\n",
       "<polygon fill=\"lightgrey\" stroke=\"black\" points=\"429,-262 329,-262 329,-242 429,-242 429,-262\"/>\n",
       "<text text-anchor=\"middle\" x=\"379\" y=\"-248.5\" font-family=\"monospace\" font-size=\"10.00\">AccumulateGrad</text>\n",
       "</g>\n",
       "<!-- 1855336021152&#45;&gt;1855336021344 -->\n",
       "<g id=\"edge19\" class=\"edge\">\n",
       "<title>1855336021152&#45;&gt;1855336021344</title>\n",
       "<path fill=\"none\" stroke=\"black\" d=\"M377.13,-241.63C375.5,-233.48 373.08,-221.39 371.01,-211.07\"/>\n",
       "<polygon fill=\"black\" stroke=\"black\" points=\"374.51,-210.72 369.12,-201.6 367.65,-212.09 374.51,-210.72\"/>\n",
       "</g>\n",
       "<!-- 1855335243568 -->\n",
       "<g id=\"node22\" class=\"node\">\n",
       "<title>1855335243568</title>\n",
       "<polygon fill=\"lightblue\" stroke=\"black\" points=\"442,-336 342,-336 342,-304 442,-304 442,-336\"/>\n",
       "<text text-anchor=\"middle\" x=\"392\" y=\"-322.5\" font-family=\"monospace\" font-size=\"10.00\">linear3.weight</text>\n",
       "<text text-anchor=\"middle\" x=\"392\" y=\"-310.5\" font-family=\"monospace\" font-size=\"10.00\"> (2, 8)</text>\n",
       "</g>\n",
       "<!-- 1855335243568&#45;&gt;1855336021152 -->\n",
       "<g id=\"edge20\" class=\"edge\">\n",
       "<title>1855335243568&#45;&gt;1855336021152</title>\n",
       "<path fill=\"none\" stroke=\"black\" d=\"M388.98,-303.69C387.21,-294.7 384.95,-283.21 383.03,-273.44\"/>\n",
       "<polygon fill=\"black\" stroke=\"black\" points=\"386.49,-272.94 381.13,-263.8 379.63,-274.29 386.49,-272.94\"/>\n",
       "</g>\n",
       "</g>\n",
       "</svg>\n"
      ],
      "text/plain": [
       "<graphviz.graphs.Digraph at 0x1affaa4fe80>"
      ]
     },
     "execution_count": 16,
     "metadata": {},
     "output_type": "execute_result"
    }
   ],
   "source": [
    "pip install torchviz\n",
    "from torchviz import make_dot\n",
    "\n",
    "# Crear una instancia de tu modelo\n",
    "net = TitanicSimpleNNModel()\n",
    "\n",
    "# Generar un tensor de ejemplo para visualizar el gráfico\n",
    "dummy_input = torch.randn(1, 12)\n",
    "\n",
    "# Visualizar el gráfico computacional del modelo\n",
    "make_dot(net(dummy_input), params=dict(net.named_parameters()))"
   ]
  },
  {
   "attachments": {},
   "cell_type": "markdown",
   "metadata": {},
   "source": [
    "Podemos usar un modelo previamente entrenado o entrenar la red usando los datos de entrenamiento para 200 épocas. Tenga en cuenta que los resultados de los pasos posteriores pueden no coincidir si se vuelve a entrenar. "
   ]
  },
  {
   "cell_type": "code",
   "execution_count": 114,
   "metadata": {},
   "outputs": [
    {
     "name": "stdout",
     "output_type": "stream",
     "text": [
      "Epoch 1/200 => Loss: 0.73\n",
      "Epoch 21/200 => Loss: 0.53\n",
      "Epoch 41/200 => Loss: 0.49\n",
      "Epoch 61/200 => Loss: 0.49\n",
      "Epoch 81/200 => Loss: 0.48\n",
      "Epoch 101/200 => Loss: 0.47\n",
      "Epoch 121/200 => Loss: 0.47\n",
      "Epoch 141/200 => Loss: 0.47\n",
      "Epoch 161/200 => Loss: 0.47\n",
      "Epoch 181/200 => Loss: 0.47\n"
     ]
    }
   ],
   "source": [
    "net = TitanicSimpleNNModel()\n",
    "USE_PRETRAINED_MODEL = False\n",
    "\n",
    "if USE_PRETRAINED_MODEL:\n",
    "    net.load_state_dict(torch.load('titanic_model.pt'))\n",
    "    print(\"Model Loaded!\")\n",
    "\n",
    "    input_tensor = torch.from_numpy(train_features).type(torch.BoolTensor)  # Para convertir datos booleanos\n",
    "    input_tensor = torch.from_numpy(train_features).type(torch.FloatTensor) # Para convertir datos enteros\n",
    "\n",
    "    input_tensor = torch.from_numpy(train_features.astype(float)).type(torch.FloatTensor) # Para convertir datos enteros y booleanos\n",
    "    label_tensor = torch.from_numpy(train_labels)\n",
    "else:\n",
    "    criterion = nn.CrossEntropyLoss()\n",
    "    num_epochs = 200\n",
    "\n",
    "    optimizer = torch.optim.Adam(net.parameters(), lr=0.1)\n",
    "\n",
    "    # input_tensor = torch.from_numpy(train_features).type(torch.FloatTensor)\n",
    "\n",
    "    input_tensor = torch.from_numpy(train_features.astype(float)).type(torch.FloatTensor) # Para convertir datos enteros y booleanos\n",
    "    label_tensor = torch.from_numpy(train_labels)\n",
    "\n",
    "    for epoch in range(num_epochs):    \n",
    "        output = net(input_tensor)\n",
    "        loss = criterion(output, label_tensor)\n",
    "        optimizer.zero_grad()\n",
    "        loss.backward()\n",
    "        optimizer.step()\n",
    "        if epoch % 20 == 0:\n",
    "            print ('Epoch {}/{} => Loss: {:.2f}'.format(epoch+1, num_epochs, loss.item()))\n",
    "\n",
    "    torch.save(net.state_dict(), 'titanic_fcnn.pt')"
   ]
  },
  {
   "cell_type": "code",
   "execution_count": 115,
   "metadata": {},
   "outputs": [
    {
     "name": "stdout",
     "output_type": "stream",
     "text": [
      "Train Accuracy: 0.8346709470304976\n"
     ]
    }
   ],
   "source": [
    "out_probs = net(input_tensor).detach().numpy()\n",
    "out_classes = np.argmax(out_probs, axis=1)\n",
    "print(\"Train Accuracy:\", sum(out_classes == train_labels) / len(train_labels))"
   ]
  },
  {
   "cell_type": "code",
   "execution_count": 116,
   "metadata": {},
   "outputs": [
    {
     "name": "stdout",
     "output_type": "stream",
     "text": [
      "Test Accuracy: 0.8134328358208955\n"
     ]
    }
   ],
   "source": [
    "# test_input_tensor = torch.from_numpy(test_features).type(torch.FloatTensor)\n",
    "test_input_tensor = torch.from_numpy(test_features.astype(float)).type(torch.FloatTensor) # Para convertir datos enteros y booleanos\n",
    "\n",
    "out_probs = net(test_input_tensor).detach().numpy()\n",
    "out_classes = np.argmax(out_probs, axis=1)\n",
    "print(\"Test Accuracy:\", sum(out_classes == test_labels) / len(test_labels))"
   ]
  },
  {
   "attachments": {},
   "cell_type": "markdown",
   "metadata": {},
   "source": [
    "* Probamos el método \"predict_lime\" de la clase \"TitanicSimpleNNModel\""
   ]
  },
  {
   "cell_type": "code",
   "execution_count": 117,
   "metadata": {},
   "outputs": [
    {
     "name": "stdout",
     "output_type": "stream",
     "text": [
      "Prediction:  [[0.73105633 0.26894373]] Input size:  torch.Size([1, 12])\n"
     ]
    }
   ],
   "source": [
    "single_input = test_input_tensor[0].unsqueeze(0)\n",
    "predict = net.predict_lime(single_input)\n",
    "print( 'Prediction: ',predict, 'Input size: ', single_input.shape)"
   ]
  },
  {
   "cell_type": "code",
   "execution_count": 118,
   "metadata": {},
   "outputs": [
    {
     "name": "stdout",
     "output_type": "stream",
     "text": [
      "Prediction:  [[0.73105633 0.26894373]\n",
      " [0.52732056 0.47267947]\n",
      " [0.731056   0.268944  ]\n",
      " [0.26898634 0.7310137 ]\n",
      " [0.7310548  0.26894525]\n",
      " [0.73087317 0.26912677]\n",
      " [0.693822   0.306178  ]\n",
      " [0.2713691  0.7286309 ]\n",
      " [0.2690988  0.7309011 ]\n",
      " [0.7310555  0.26894453]] Input size:  torch.Size([10, 12])\n"
     ]
    }
   ],
   "source": [
    "multiple_input = test_input_tensor[:10]\n",
    "predict = net.predict_lime(multiple_input)\n",
    "print( 'Prediction: ',predict, 'Input size: ', multiple_input.shape)"
   ]
  },
  {
   "cell_type": "code",
   "execution_count": 119,
   "metadata": {},
   "outputs": [
    {
     "name": "stdout",
     "output_type": "stream",
     "text": [
      "Prediction:  tensor([[0.7311, 0.2689]], grad_fn=<SoftmaxBackward0>) Input size:  torch.Size([1, 12])\n"
     ]
    }
   ],
   "source": [
    "single_input = test_input_tensor[0].unsqueeze(0)\n",
    "predict = net.predict(single_input)\n",
    "print( 'Prediction: ',predict, 'Input size: ', single_input.shape)"
   ]
  },
  {
   "cell_type": "code",
   "execution_count": 120,
   "metadata": {},
   "outputs": [
    {
     "name": "stdout",
     "output_type": "stream",
     "text": [
      "Prediction:  tensor([[0.7311, 0.2689],\n",
      "        [0.5273, 0.4727],\n",
      "        [0.7311, 0.2689],\n",
      "        [0.2690, 0.7310],\n",
      "        [0.7311, 0.2689],\n",
      "        [0.7309, 0.2691],\n",
      "        [0.6938, 0.3062],\n",
      "        [0.2714, 0.7286],\n",
      "        [0.2691, 0.7309],\n",
      "        [0.7311, 0.2689]], grad_fn=<SoftmaxBackward0>) Input size:  torch.Size([10, 12])\n"
     ]
    }
   ],
   "source": [
    "input = test_input_tensor[:10]\n",
    "predict = net.predict(input)\n",
    "print( 'Prediction: ',predict, 'Input size: ', input.shape)"
   ]
  },
  {
   "attachments": {},
   "cell_type": "markdown",
   "metadata": {},
   "source": [
    "Visualizamos el modelo que vamos a almacenar en un archivo para poder utilizarlo sin tener que recrear todo el proceso en otro archivo"
   ]
  },
  {
   "cell_type": "code",
   "execution_count": 121,
   "metadata": {},
   "outputs": [
    {
     "data": {
      "text/plain": [
       "TitanicSimpleNNModel(\n",
       "  (linear1): Linear(in_features=12, out_features=12, bias=True)\n",
       "  (sigmoid1): Sigmoid()\n",
       "  (linear2): Linear(in_features=12, out_features=8, bias=True)\n",
       "  (sigmoid2): Sigmoid()\n",
       "  (linear3): Linear(in_features=8, out_features=2, bias=True)\n",
       "  (softmax): Softmax(dim=1)\n",
       ")"
      ]
     },
     "execution_count": 121,
     "metadata": {},
     "output_type": "execute_result"
    }
   ],
   "source": [
    "\n",
    "\n",
    "# Cargamos el modelo para comprobar que se ha guardado con sus características \n",
    "model = TitanicSimpleNNModel()\n",
    "\n",
    "# Cargar los pesos del modelo desde el archivo\n",
    "model.load_state_dict(torch.load('titanic_fcnn.pt'))\n",
    "\n",
    "# Asegurarse de que el modelo esté en modo de evaluación (si corresponde)\n",
    "model.eval()\n"
   ]
  }
 ],
 "metadata": {
  "kernelspec": {
   "display_name": "Python 3",
   "language": "python",
   "name": "python3"
  },
  "language_info": {
   "codemirror_mode": {
    "name": "ipython",
    "version": 3
   },
   "file_extension": ".py",
   "mimetype": "text/x-python",
   "name": "python",
   "nbconvert_exporter": "python",
   "pygments_lexer": "ipython3",
   "version": "3.10.0"
  },
  "orig_nbformat": 4
 },
 "nbformat": 4,
 "nbformat_minor": 2
}
