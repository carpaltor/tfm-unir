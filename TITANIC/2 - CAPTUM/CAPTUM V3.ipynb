{
 "cells": [
  {
   "attachments": {},
   "cell_type": "markdown",
   "metadata": {},
   "source": [
    "APLICAR CAPTUM SOBRE UN MODELO ENTRENADO CON EL DATASET TITANIC."
   ]
  },
  {
   "cell_type": "code",
   "execution_count": null,
   "metadata": {},
   "outputs": [],
   "source": [
    "# %pip install torch\n",
    "# %pip install captum"
   ]
  },
  {
   "cell_type": "code",
   "execution_count": 160,
   "metadata": {
    "_cell_guid": "b1076dfc-b9ad-4769-8c92-a6c4dae69d19",
    "_uuid": "8f2839f25d086af736a60e9eeb907d3b93b6e0e5"
   },
   "outputs": [],
   "source": [
    "# Initial imports\n",
    "import numpy as np\n",
    "\n",
    "import torch\n",
    "import torch.nn as nn\n",
    "\n",
    "from captum.attr import IntegratedGradients\n",
    "from captum.attr import LayerConductance\n",
    "from captum.attr import NeuronConductance\n",
    "\n",
    "import matplotlib\n",
    "import matplotlib.pyplot as plt\n",
    "%matplotlib inline\n",
    "\n",
    "from scipy import stats\n",
    "import pandas as pd"
   ]
  },
  {
   "attachments": {},
   "cell_type": "markdown",
   "metadata": {},
   "source": [
    "## Carga del modelo"
   ]
  },
  {
   "attachments": {},
   "cell_type": "markdown",
   "metadata": {},
   "source": [
    "Como Pytorch guarda las variables del modelo y los pesos y el modelo en su totalidad, hemos cogido la clase definida en el notebook principal. Aquí debemos declarar la clase e instanciarla a una variable, para poder utilizarlo.   \n",
    "Hemos definido una arquitectura simple utilizando 2 capas ocultas, la primera con 12 unidades ocultas y la segunda con 8 unidades ocultas, cada una con no linealidad sigmoide.  La capa final realiza una operación softmax y tiene 2 unidades, correspondientes a las salidas de sobrevivido (1) o no sobrevivido (0)."
   ]
  },
  {
   "cell_type": "code",
   "execution_count": 161,
   "metadata": {},
   "outputs": [],
   "source": [
    "torch.manual_seed(1)  # Set seed for reproducibility.\n",
    "\n",
    "class TitanicSimpleNNModel(nn.Module):\n",
    "    def __init__(self):\n",
    "        super().__init__()\n",
    "        self.linear1 = nn.Linear(12, 12)\n",
    "        self.sigmoid1 = nn.Sigmoid()\n",
    "        self.linear2 = nn.Linear(12, 8)\n",
    "        self.sigmoid2 = nn.Sigmoid()\n",
    "        self.linear3 = nn.Linear(8, 2)\n",
    "        self.softmax = nn.Softmax(dim=1)\n",
    "\n",
    "    def forward(self, x):\n",
    "        lin1_out = self.linear1(x)\n",
    "        sigmoid_out1 = self.sigmoid1(lin1_out)\n",
    "        sigmoid_out2 = self.sigmoid2(self.linear2(sigmoid_out1))\n",
    "        return self.softmax(self.linear3(sigmoid_out2))\n",
    "    \n",
    "    def predict(self, x):\n",
    "        if isinstance(x, np.ndarray):\n",
    "            x = torch.from_numpy(x).float()\n",
    "        elif isinstance(x, torch.Tensor):\n",
    "            x = x.float()\n",
    "            \n",
    "        x = x.view(x.size(0), -1)\n",
    "        output = self.forward(x)\n",
    "        predicted_probs = torch.softmax(output, dim=1)\n",
    "        return predicted_probs\n",
    "    \n",
    "    \n",
    "    def predict_lime(self, x):\n",
    "        if isinstance(x, np.ndarray):\n",
    "            x = torch.from_numpy(x).float()\n",
    "        elif isinstance(x, torch.Tensor):\n",
    "            x = x.float()\n",
    "\n",
    "        x = x.view(x.size(0), -1)\n",
    "        output = self.forward(x)\n",
    "        predicted_probs = torch.softmax(output, dim=1)\n",
    "        _, predicted_labels = torch.max(predicted_probs, 1)\n",
    "        return predicted_probs.detach().numpy()"
   ]
  },
  {
   "attachments": {},
   "cell_type": "markdown",
   "metadata": {},
   "source": [
    "## Cargamos los datos del dataset de entrada"
   ]
  },
  {
   "cell_type": "code",
   "execution_count": 162,
   "metadata": {},
   "outputs": [],
   "source": [
    "# Update path to dataset here.\n",
    "dataset_path = \"../Main Notebook/titanic_data.csv\"\n",
    "# Read dataset from csv file.\n",
    "titanic_data = pd.read_csv(dataset_path)"
   ]
  },
  {
   "attachments": {},
   "cell_type": "markdown",
   "metadata": {},
   "source": [
    "Ahora convertimos los datos en matrices Numpy y separamos los conjuntos de entrenamiento (70%) y prueba (30%)."
   ]
  },
  {
   "cell_type": "code",
   "execution_count": 163,
   "metadata": {},
   "outputs": [],
   "source": [
    "# Convert features and labels to numpy arrays.\n",
    "labels = titanic_data[\"Survived\"].to_numpy()\n",
    "titanic_data = titanic_data.drop(['Survived'], axis=1)\n",
    "feature_names = list(titanic_data.columns)\n",
    "data = titanic_data.to_numpy()\n",
    "\n",
    "# Separate training and test sets using \n",
    "train_indices = np.random.choice(len(labels), int(0.7*len(labels)), replace=False)\n",
    "test_indices = list(set(range(len(labels))) - set(train_indices))\n",
    "train_features = data[train_indices]\n",
    "train_labels = labels[train_indices]\n",
    "test_features = data[test_indices]\n",
    "test_labels = labels[test_indices]"
   ]
  },
  {
   "attachments": {},
   "cell_type": "markdown",
   "metadata": {},
   "source": [
    "Podemos usar un modelo previamente entrenado o entrenar la red usando los datos de entrenamiento para 200 épocas. Se debe tener en cuenta que los resultados de los pasos posteriores pueden no coincidir si se vuelve a entrenar.    En nuestro caso, vamos a cargar y utilizar el modelo ya entrenado"
   ]
  },
  {
   "cell_type": "code",
   "execution_count": 164,
   "metadata": {},
   "outputs": [
    {
     "name": "stdout",
     "output_type": "stream",
     "text": [
      "Model Loaded!\n"
     ]
    }
   ],
   "source": [
    "# Creamos una instancia de la clase del modelo.\n",
    "net = TitanicSimpleNNModel()\n",
    "\n",
    "USE_PRETRAINED_MODEL = True # True: utilizamos el modelo ya entrenado / False: entrenamos aquí el modelo.\n",
    "\n",
    "if USE_PRETRAINED_MODEL:\n",
    "    # Cargamos los pesos del modelo guardado en la instancia del modelo.\n",
    "    net.load_state_dict(torch.load('../Main Notebook/titanic_fcnn.pt'))\n",
    "    print(\"Model Loaded!\")\n",
    "\n",
    "    # Convertimos los datos de entrenamiento en tensores.\n",
    "    input_tensor = torch.from_numpy(train_features).type(torch.BoolTensor)  # Para convertir datos booleanos\n",
    "    input_tensor = torch.from_numpy(train_features).type(torch.FloatTensor) # Para convertir datos enteros\n",
    "\n",
    "    input_tensor = torch.from_numpy(train_features.astype(float)).type(torch.FloatTensor) # Para convertir datos enteros y booleanos\n",
    "    label_tensor = torch.from_numpy(train_labels)\n",
    "else:\n",
    "    criterion = nn.CrossEntropyLoss()\n",
    "    num_epochs = 200\n",
    "\n",
    "    optimizer = torch.optim.Adam(net.parameters(), lr=0.1)\n",
    "\n",
    "    # input_tensor = torch.from_numpy(train_features).type(torch.FloatTensor)\n",
    "\n",
    "    input_tensor = torch.from_numpy(train_features.astype(float)).type(torch.FloatTensor) # Para convertir datos enteros y booleanos\n",
    "    label_tensor = torch.from_numpy(train_labels)\n",
    "\n",
    "    for epoch in range(num_epochs):    \n",
    "        output = net(input_tensor)\n",
    "        loss = criterion(output, label_tensor)\n",
    "        optimizer.zero_grad()\n",
    "        loss.backward()\n",
    "        optimizer.step()\n",
    "        if epoch % 20 == 0:\n",
    "            print ('Epoch {}/{} => Loss: {:.2f}'.format(epoch+1, num_epochs, loss.item()))\n",
    "\n",
    "    torch.save(net.state_dict(), 'titanic_model.pt')"
   ]
  },
  {
   "cell_type": "code",
   "execution_count": 165,
   "metadata": {},
   "outputs": [
    {
     "data": {
      "text/plain": [
       "TitanicSimpleNNModel(\n",
       "  (linear1): Linear(in_features=12, out_features=12, bias=True)\n",
       "  (sigmoid1): Sigmoid()\n",
       "  (linear2): Linear(in_features=12, out_features=8, bias=True)\n",
       "  (sigmoid2): Sigmoid()\n",
       "  (linear3): Linear(in_features=8, out_features=2, bias=True)\n",
       "  (softmax): Softmax(dim=1)\n",
       ")"
      ]
     },
     "execution_count": 165,
     "metadata": {},
     "output_type": "execute_result"
    }
   ],
   "source": [
    "# Establecemos el modo de evaluacion para el modelo\n",
    "net.eval()"
   ]
  },
  {
   "attachments": {},
   "cell_type": "markdown",
   "metadata": {},
   "source": [
    "Ahora podemos evaluar las precisiones de entrenamiento y prueba de nuestro modelo."
   ]
  },
  {
   "cell_type": "code",
   "execution_count": 166,
   "metadata": {},
   "outputs": [
    {
     "name": "stdout",
     "output_type": "stream",
     "text": [
      "Train Accuracy: 0.8330658105939005\n"
     ]
    }
   ],
   "source": [
    "out_probs = net(input_tensor).detach().numpy()\n",
    "out_classes = np.argmax(out_probs, axis=1)\n",
    "print(\"Train Accuracy:\", sum(out_classes == train_labels) / len(train_labels))"
   ]
  },
  {
   "cell_type": "code",
   "execution_count": 167,
   "metadata": {},
   "outputs": [
    {
     "name": "stdout",
     "output_type": "stream",
     "text": [
      "Test Accuracy: 0.8171641791044776\n"
     ]
    }
   ],
   "source": [
    "test_input_tensor = torch.from_numpy(test_features.astype(float)).type(torch.FloatTensor) # Para convertir datos enteros y booleanos\n",
    "\n",
    "out_probs = net(test_input_tensor).detach().numpy()\n",
    "out_classes = np.argmax(out_probs, axis=1)\n",
    "print(\"Test Accuracy:\", sum(out_classes == test_labels) / len(test_labels))"
   ]
  },
  {
   "attachments": {},
   "cell_type": "markdown",
   "metadata": {},
   "source": [
    "## Implementacion de CAPTUM"
   ]
  },
  {
   "attachments": {},
   "cell_type": "markdown",
   "metadata": {},
   "source": [
    "Más allá de solo considerar la precisión del clasificador, hay muchas preguntas importantes para comprender cómo funciona el modelo y su decisión, que es el propósito de Captum, ayudar a que las redes neuronales en PyTorch sean más interpretables.\n",
    "\n",
    "La primera pregunta que podemos hacernos es ¿cuáles de las características de entrada fueron realmente importantes para el modelo para llegar a las decisiones que ha tomado?   \n",
    "\n",
    "Este es el primer componente principal de Captum, la capacidad de obtener atribuciones de funciones. Para este ejemplo, aplicaremos Integrated Gradients, que es uno de los métodos de Feature Attribution incluidos en Captum. \n",
    "\n",
    "Para aplicar gradientes integrados, primero creamos un objeto IntegratedGradients, proporcionando el objeto modelo."
   ]
  },
  {
   "cell_type": "code",
   "execution_count": 168,
   "metadata": {},
   "outputs": [],
   "source": [
    "ig = IntegratedGradients(net)"
   ]
  },
  {
   "attachments": {},
   "cell_type": "markdown",
   "metadata": {},
   "source": [
    "Para calcular los gradientes integrados, usamos el método de atributos del objeto IntegratedGradients. El método toma tensores de ejemplos de entrada (que coinciden con la función de avance del modelo) y devuelve las atribuciones de entrada para los ejemplos dados. Para una red con múltiples salidas, también se debe proporcionar un índice objetivo, definiendo el índice de la salida para el cual se calculan los gradientes. Para este ejemplo, proporcionamos target = 1, correspondiente a la supervivencia.\n",
    "\n",
    "El tensor de entrada provisto debe requerir grad, por lo que llamamos a require_grad_ en el tensor. El método de atributos también toma una línea de base, que es el punto de partida desde el cual se integran los degradados. El valor predeterminado es solo el tensor 0, que es una línea base/predeterminada razonable para esta tarea.\n",
    "\n",
    "Los valores devueltos por el método de atributo son las atribuciones, que coinciden con el tamaño de las entradas dadas, y delta, que aproxima el error entre la integral aproximada y la integral verdadera."
   ]
  },
  {
   "attachments": {},
   "cell_type": "markdown",
   "metadata": {},
   "source": [
    "Este código realiza una atribución integrada utilizando el método attribute sobre el tensor test_input_tensor, y luego extrae los valores de atribución en forma de un array NumPy para su posterior uso."
   ]
  },
  {
   "cell_type": "code",
   "execution_count": 169,
   "metadata": {},
   "outputs": [],
   "source": [
    "test_input_tensor.requires_grad_()\n",
    "attr, delta = ig.attribute(test_input_tensor,target=1, return_convergence_delta=True)\n",
    "attr = attr.detach().numpy()"
   ]
  },
  {
   "attachments": {},
   "cell_type": "markdown",
   "metadata": {},
   "source": [
    "Para comprender estas atribuciones, primero podemos promediarlas en todas las entradas e imprimir/visualizar la atribución promedio para cada característica."
   ]
  },
  {
   "cell_type": "code",
   "execution_count": 170,
   "metadata": {},
   "outputs": [
    {
     "name": "stdout",
     "output_type": "stream",
     "text": [
      "Average Feature Importances\n",
      "Age :  -0.377\n",
      "SibSp :  -0.088\n",
      "Parch :  -0.017\n",
      "Fare :  0.753\n",
      "female :  0.326\n",
      "male :  -0.562\n",
      "Embark_C :  0.051\n",
      "Embark_Q :  0.010\n",
      "Embark_S :  -0.097\n",
      "Class_1 :  0.153\n",
      "Class_2 :  0.231\n",
      "Class_3 :  -0.235\n"
     ]
    },
    {
     "data": {
      "image/png": "[encoded data removed]",
      "text/plain": [
       "<Figure size 864x432 with 1 Axes>"
      ]
     },
     "metadata": {
      "needs_background": "light"
     },
     "output_type": "display_data"
    }
   ],
   "source": [
    "# Helper method to print importances and visualize distribution\n",
    "def visualize_importances(feature_names, importances, title=\"Average Feature Importances\", plot=True, axis_title=\"Features\"):\n",
    "    print(title)\n",
    "    for i in range(len(feature_names)):\n",
    "        print(feature_names[i], \": \", '%.3f'%(importances[i]))\n",
    "    x_pos = (np.arange(len(feature_names)))\n",
    "    if plot:\n",
    "        plt.figure(figsize=(12,6))\n",
    "        plt.bar(x_pos, importances, align='center')\n",
    "        plt.xticks(x_pos, feature_names, wrap=True)\n",
    "        plt.xlabel(axis_title)\n",
    "        plt.title(title)\n",
    "visualize_importances(feature_names, np.mean(attr, axis=0))"
   ]
  },
  {
   "attachments": {},
   "cell_type": "markdown",
   "metadata": {},
   "source": [
    "A partir de la información de atribución de características, obtenemos algunas ideas interesantes sobre la importancia de varias características. Vemos que las características más fuertes parecen ser el importe de la tarifa pagada (Fare) y el sexo femenimo, que se correlacionan positivamente con la supervivencia. Por el lado contrario, el sexo masculino y la edad, se correlacionan negativamente con la supervivencia, mientras que embarcarse en Queens y el número de padres/hijos (Parch) parecen ser características menos importantes."
   ]
  },
  {
   "attachments": {},
   "cell_type": "markdown",
   "metadata": {},
   "source": [
    "Una cosa importante a tener en cuenta es que las atribuciones promedio sobre el conjunto de prueba no necesariamente capturan toda la información sobre la importancia de las funciones. También deberíamos mirar la distribución de atribuciones para cada función, ya que es posible que las características tengan atribuciones muy diferentes para diferentes ejemplos en el conjunto de datos.\n",
    "\n",
    "Por ejemplo, podemos visualizar la distribución de atribuciones para el número de hermanos/cónyuges (Sibsp)."
   ]
  },
  {
   "cell_type": "code",
   "execution_count": 171,
   "metadata": {},
   "outputs": [
    {
     "data": {
      "image/png": "[encoded data removed]",
      "text/plain": [
       "<Figure size 432x288 with 1 Axes>"
      ]
     },
     "metadata": {
      "needs_background": "light"
     },
     "output_type": "display_data"
    }
   ],
   "source": [
    "plt.hist(attr[:,1], 100);\n",
    "plt.title(\"Distribution of Sibsp Attribution Values\");"
   ]
  },
  {
   "attachments": {},
   "cell_type": "markdown",
   "metadata": {},
   "source": [
    "Notamos que la gran mayoría de los ejemplos tienen un valor de atribución de 0 para sibsp, lo que probablemente corresponde a tener un valor de 0 para la función Integrated Gradients. A grandes rasgos, esto significa que esta característica no tiene una influencia fuerte en la predicción del modelo."
   ]
  },
  {
   "attachments": {},
   "cell_type": "markdown",
   "metadata": {},
   "source": [
    "Ahora que tenemos una mejor comprensión de la importancia de las diferentes características de entrada, la siguiente pregunta que podemos hacer con respecto a la función de la red neuronal es cómo las diferentes neuronas en cada capa trabajan juntas para alcanzar la predicción. Por ejemplo, en nuestra salida de la primera capa oculta que contiene 12 unidades: ¿se usan todas las unidades para la predicción? ¿algunas unidades aprenden características correlacionadas positivamente con la supervivencia mientras que otras aprenden características correlacionadas negativamente con la supervivencia?\n",
    "\n",
    "Esto nos lleva al segundo tipo de atribuciones disponibles en Captum, Layer Attributions. Las atribuciones de capa nos permiten comprender la importancia de todas las neuronas en la salida de una capa en particular. Para este ejemplo, usaremos Layer Conductance, uno de los métodos de Layer Attribution en Captum, que es una extensión de Integrated Gradients aplicada a neuronas ocultas. \n",
    "\n",
    "Para usar Layer Conductance, creamos un objeto LayerConductance pasando el modelo y el módulo (capa) cuya salida nos gustaría comprender. En este caso, elegimos net.sigmoid1, la salida de la primera capa oculta."
   ]
  },
  {
   "cell_type": "code",
   "execution_count": 172,
   "metadata": {},
   "outputs": [],
   "source": [
    "cond = LayerConductance(net, net.sigmoid1)"
   ]
  },
  {
   "attachments": {},
   "cell_type": "markdown",
   "metadata": {},
   "source": [
    "Ahora podemos obtener los valores de conductancia para todos los ejemplos de prueba llamando al atributo en el objeto LayerConductance. LayerConductance también requiere un índice objetivo para redes con múltiples salidas, definiendo el índice de la salida para el cual se calculan los gradientes. De manera similar a las atribuciones de características, proporcionamos el objetivo = 1, correspondiente a la supervivencia. LayerConductance también utiliza una línea base, pero nosotros simplemente usamos la línea base cero predeterminada como en los degradados integrados."
   ]
  },
  {
   "cell_type": "code",
   "execution_count": 173,
   "metadata": {},
   "outputs": [],
   "source": [
    "cond_vals = cond.attribute(test_input_tensor,target=1)\n",
    "cond_vals = cond_vals.detach().numpy()"
   ]
  },
  {
   "attachments": {},
   "cell_type": "markdown",
   "metadata": {},
   "source": [
    "Podemos comenzar visualizando la conductancia promedio para cada neurona."
   ]
  },
  {
   "cell_type": "code",
   "execution_count": 174,
   "metadata": {},
   "outputs": [
    {
     "name": "stdout",
     "output_type": "stream",
     "text": [
      "Average Neuron Importances\n",
      "0 :  -0.342\n",
      "1 :  0.017\n",
      "2 :  0.084\n",
      "3 :  0.054\n",
      "4 :  0.223\n",
      "5 :  0.087\n",
      "6 :  -0.343\n",
      "7 :  0.176\n",
      "8 :  0.049\n",
      "9 :  0.210\n",
      "10 :  0.022\n",
      "11 :  -0.069\n"
     ]
    },
    {
     "data": {
      "image/png": "[encoded data removed]",
      "text/plain": [
       "<Figure size 864x432 with 1 Axes>"
      ]
     },
     "metadata": {
      "needs_background": "light"
     },
     "output_type": "display_data"
    }
   ],
   "source": [
    "visualize_importances(range(12),np.mean(cond_vals, axis=0),title=\"Average Neuron Importances\", axis_title=\"Neurons\")"
   ]
  },
  {
   "attachments": {},
   "cell_type": "markdown",
   "metadata": {},
   "source": [
    "Podemos observar como las neuronas 0 y 6 parecen estar aprendiendo características fuertes negativamente correlacionadas con la supervivencia."
   ]
  },
  {
   "attachments": {},
   "cell_type": "markdown",
   "metadata": {},
   "source": [
    "También podemos observar la distribución de las atribuciones de cada neurona. "
   ]
  },
  {
   "cell_type": "code",
   "execution_count": 175,
   "metadata": {},
   "outputs": [
    {
     "data": {
      "image/png": "[encoded data removed]",
      "text/plain": [
       "<Figure size 432x288 with 1 Axes>"
      ]
     },
     "metadata": {
      "needs_background": "light"
     },
     "output_type": "display_data"
    },
    {
     "data": {
      "image/png": "[encoded data removed]",
      "text/plain": [
       "<Figure size 432x288 with 1 Axes>"
      ]
     },
     "metadata": {
      "needs_background": "light"
     },
     "output_type": "display_data"
    }
   ],
   "source": [
    "plt.hist(cond_vals[:,3], 100);\n",
    "plt.title(\"Neuron 3 Distribution\")\n",
    "plt.figure()\n",
    "plt.hist(cond_vals[:,10], 100);\n",
    "plt.title(\"Neuron 10 Distribution\");"
   ]
  },
  {
   "attachments": {},
   "cell_type": "markdown",
   "metadata": {},
   "source": [
    "Observando las distribuciones de las neuronas 3 y 10, y vemos que la neurona 3, al estar sus distribuciones de atribución muy cercanas a 0, sugiere que no está aprendiendo características sustanciales, mientras que la neurona 10, con una distribución distinta, sí que lo hace."
   ]
  },
  {
   "attachments": {},
   "cell_type": "markdown",
   "metadata": {},
   "source": [
    "Hemos identificado que algunas de las neuronas no están aprendiendo características importantes, mientras que otras sí. ¿Podemos ahora entender qué está mirando cada una de estas neuronas en la entrada? Por ejemplo, ¿identifican características diferentes en la entrada o similares?\n",
    "\n",
    "Para responder a estas preguntas, podemos aplicar el tercer tipo de atribuciones disponibles en Captum, Neuron Attributions. Esto nos permite comprender qué partes de la entrada contribuyen a activar una neurona de entrada en particular. Para este ejemplo, aplicaremos Neuron Conductance, que divide el valor de conductancia total de la neurona en la contribución de cada característica de entrada individual.\n",
    "\n",
    "Para usar Neuron Conductance, creamos un objeto NeuronConductance, de manera análoga a Conductance, pasando el modelo y el módulo (capa) cuya salida nos gustaría entender, en este caso, net.sigmoid1, como antes."
   ]
  },
  {
   "cell_type": "code",
   "execution_count": 176,
   "metadata": {},
   "outputs": [],
   "source": [
    "neuron_cond = NeuronConductance(net, net.sigmoid1)"
   ]
  },
  {
   "attachments": {},
   "cell_type": "markdown",
   "metadata": {},
   "source": [
    "Ahora podemos obtener los valores de conductancia de las neuronas para todos los ejemplos de prueba llamando al atributo en el objeto NeuronConductance. Neuron Conductance requiere el índice de neuronas en la capa de destino para la que se solicitan atribuciones, así como el índice de destino para redes con múltiples salidas, similar a la conductancia de capa. Como antes, proporcionamos el objetivo = 1, correspondiente a la supervivencia, y calculamos la conductancia neuronal para las neuronas 0 y 6, las neuronas significativas identificadas anteriormente. El índice de neuronas se puede proporcionar como una tupla o simplemente como un número entero si la salida de la capa es unidimensional."
   ]
  },
  {
   "cell_type": "code",
   "execution_count": 177,
   "metadata": {},
   "outputs": [],
   "source": [
    "# Conductancia de la neurona 0.\n",
    "neuron_cond_vals_0 = neuron_cond.attribute(test_input_tensor, neuron_selector=0, target=1)"
   ]
  },
  {
   "cell_type": "code",
   "execution_count": 178,
   "metadata": {},
   "outputs": [],
   "source": [
    "# Conductancia de la neurona 6.\n",
    "neuron_cond_vals_6 = neuron_cond.attribute(test_input_tensor, neuron_selector=6, target=1)"
   ]
  },
  {
   "cell_type": "code",
   "execution_count": 179,
   "metadata": {},
   "outputs": [
    {
     "name": "stdout",
     "output_type": "stream",
     "text": [
      "Average Feature Importances for Neuron 0\n",
      "Age :  -0.275\n",
      "SibSp :  -0.011\n",
      "Parch :  -0.021\n",
      "Fare :  0.143\n",
      "female :  0.113\n",
      "male :  -0.278\n",
      "Embark_C :  -0.002\n",
      "Embark_Q :  -0.001\n",
      "Embark_S :  0.012\n",
      "Class_1 :  0.029\n",
      "Class_2 :  -0.006\n",
      "Class_3 :  -0.026\n"
     ]
    },
    {
     "data": {
      "image/png": "[encoded data removed]",
      "text/plain": [
       "<Figure size 864x432 with 1 Axes>"
      ]
     },
     "metadata": {
      "needs_background": "light"
     },
     "output_type": "display_data"
    }
   ],
   "source": [
    "visualize_importances(feature_names, neuron_cond_vals_0.mean(dim=0).detach().numpy(), title=\"Average Feature Importances for Neuron 0\")"
   ]
  },
  {
   "attachments": {},
   "cell_type": "markdown",
   "metadata": {},
   "source": [
    "De los datos anteriores, parece que las funciones de entrada principales utilizadas por la neurona 0 es la edad y el género masculino, con una importancia limitada para todas las demás funciones."
   ]
  },
  {
   "cell_type": "code",
   "execution_count": 180,
   "metadata": {},
   "outputs": [
    {
     "name": "stdout",
     "output_type": "stream",
     "text": [
      "Average Feature Importances for Neuron 6\n",
      "Age :  -0.309\n",
      "SibSp :  -0.043\n",
      "Parch :  0.023\n",
      "Fare :  -0.096\n",
      "female :  0.099\n",
      "male :  -0.113\n",
      "Embark_C :  0.007\n",
      "Embark_Q :  -0.000\n",
      "Embark_S :  0.047\n",
      "Class_1 :  0.010\n",
      "Class_2 :  0.115\n",
      "Class_3 :  -0.057\n"
     ]
    },
    {
     "data": {
      "image/png": "[encoded data removed]",
      "text/plain": [
       "<Figure size 864x432 with 1 Axes>"
      ]
     },
     "metadata": {
      "needs_background": "light"
     },
     "output_type": "display_data"
    }
   ],
   "source": [
    "visualize_importances(feature_names, neuron_cond_vals_6.mean(dim=0).detach().numpy(), title=\"Average Feature Importances for Neuron 6\")"
   ]
  },
  {
   "attachments": {},
   "cell_type": "markdown",
   "metadata": {},
   "source": [
    "De la visualización anterior vemos que la neurona 6 se basa principalmente en la característica de edad, como en la neurona 0, siendo bastante diferente a partir de aquí a la neurona 0."
   ]
  },
  {
   "attachments": {},
   "cell_type": "markdown",
   "metadata": {},
   "source": [
    "## Conclusion"
   ]
  },
  {
   "attachments": {},
   "cell_type": "markdown",
   "metadata": {},
   "source": [
    "En esta demostración, hemos aplicado diferentes técnicas de atribución en Captum, incluidos los gradientes integrados para la atribución de funciones y la conductancia para la atribución de capas y neuronas, a fin de comprender mejor la red neuronal que predice la supervivencia. Aunque las redes más grandes son más difíciles de analizar que esta red simple, estos componentes básicos para la atribución se pueden utilizar para mejorar la interpretabilidad del modelo, rompiendo la caracterización tradicional de \"caja negra\" de las redes neuronales y profundizando en la comprensión de cómo y por qué hacen su trabajo. decisiones"
   ]
  }
 ],
 "metadata": {
  "kernelspec": {
   "display_name": "Python 3 (ipykernel)",
   "language": "python",
   "name": "python3"
  },
  "language_info": {
   "codemirror_mode": {
    "name": "ipython",
    "version": 3
   },
   "file_extension": ".py",
   "mimetype": "text/x-python",
   "name": "python",
   "nbconvert_exporter": "python",
   "pygments_lexer": "ipython3",
   "version": "3.10.0"
  }
 },
 "nbformat": 4,
 "nbformat_minor": 4
}
